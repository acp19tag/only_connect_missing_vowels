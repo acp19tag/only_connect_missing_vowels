{
 "cells": [
  {
   "cell_type": "markdown",
   "metadata": {
    "id": "-vGJSNLwKz29"
   },
   "source": [
    "# Introduction\n",
    "\n",
    "This Notebook is to walk through the steps needed to make a python script to quiz you on your Only Connect Vowel Clues!\n",
    "\n",
    "# Step 1: Extract the Clues\n",
    "\n",
    "First thing you want to do is get the clues in a nice format so python can read them.\n",
    "Clues are located at this url: https://prettygr.im/smoci/only-connect/vowel_clues\n",
    "\n",
    "If you see at the top of the page, it can provide you the clues in JSON format by going to this url instead: https://prettygr.im/smoci/only-connect/vowel_clues.json?_labels=on\n",
    "\n",
    "To scrape a webpage from python, we can use the `requests` library to make the call, and the `json` library to parse the json."
   ]
  },
  {
   "cell_type": "code",
   "execution_count": 4,
   "metadata": {
    "colab": {
     "base_uri": "https://localhost:8080/"
    },
    "executionInfo": {
     "elapsed": 811,
     "status": "ok",
     "timestamp": 1676651653624,
     "user": {
      "displayName": "Joey Green",
      "userId": "06938313352097971733"
     },
     "user_tz": 0
    },
    "id": "NRSIUhEOLqqc",
    "outputId": "bb7fe969-f34a-4caf-a621-4206a099c328"
   },
   "outputs": [
    {
     "name": "stdout",
     "output_type": "stream",
     "text": [
      "size: 50, [{'id': 1, 'match': {'value': 1, 'label': 'S01E01: Lapsed Psychologists [18 | 12] Knitters'}, 'set': {'value': 1, 'label': 'Dishes made using eggs'}, 'clue': 'MRN G', 'solution': 'MERINGUE', 'right': '[4,5]', 'wrong': '[]', 'right_team': {'value': 2, 'label': 'Knitters'}, 'wrong_team': None, '#': 1}, {'id': 2, 'match': {'value': 1, 'label': 'S01E01: Lapsed Psychologists [18 | 12] Knitters'}, 'set': {'value': 1, 'label': 'Dishes made using eggs'}, 'clue': 'MLT T', 'solution': 'OMELETTE', 'right': '[1]', 'wrong': '[]', 'right_team': {'value': 1, 'label': 'Lapsed Psychologists'}, 'wrong_team': None, '#': 2}, {'id': 3, 'match': {'value': 1, 'label': 'S01E01: Lapsed Psychologists [18 | 12] Knitters'}, 'set': {'value': 1, 'label': 'Dishes made using eggs'}, 'clue': 'MS S', 'solution': 'MOUSSE', 'right': '[]', 'wrong': '[2]', 'right_team': None, 'wrong_team': {'value': 1, 'label': 'Lapsed Psychologists'}, '#': 3}, {'id': 4, 'match': {'value': 1, 'label': 'S01E01: Lapsed Psychologists [18 | 12] Knitters'}, 'set': {'value': 1, 'label': 'Dishes made using eggs'}, 'clue': 'F RT TT', 'solution': 'FRITTATA', 'right': '[1]', 'wrong': '[]', 'right_team': {'value': 1, 'label': 'Lapsed Psychologists'}, 'wrong_team': None, '#': 4}, {'id': 5, 'match': {'value': 1, 'label': 'S01E01: Lapsed Psychologists [18 | 12] Knitters'}, 'set': {'value': 2, 'label': 'Famous mathematicians'}, 'clue': 'LNTRN G', 'solution': 'ALAN TURING', 'right': '[1]', 'wrong': '[]', 'right_team': {'value': 1, 'label': 'Lapsed Psychologists'}, 'wrong_team': None, '#': 1}, {'id': 6, 'match': {'value': 1, 'label': 'S01E01: Lapsed Psychologists [18 | 12] Knitters'}, 'set': {'value': 2, 'label': 'Famous mathematicians'}, 'clue': 'RC HM DS', 'solution': 'ARCHIMEDES', 'right': '[4]', 'wrong': '[]', 'right_team': {'value': 2, 'label': 'Knitters'}, 'wrong_team': None, '#': 2}, {'id': 7, 'match': {'value': 1, 'label': 'S01E01: Lapsed Psychologists [18 | 12] Knitters'}, 'set': {'value': 2, 'label': 'Famous mathematicians'}, 'clue': 'RNDS CR TS', 'solution': 'RENÉ DESCARTES', 'right': '[]', 'wrong': '[]', 'right_team': None, 'wrong_team': None, '#': 3}, {'id': 8, 'match': {'value': 1, 'label': 'S01E01: Lapsed Psychologists [18 | 12] Knitters'}, 'set': {'value': 2, 'label': 'Famous mathematicians'}, 'clue': 'B LSPS CL', 'solution': 'BLAISE PASCAL', 'right': '[1]', 'wrong': '[]', 'right_team': {'value': 1, 'label': 'Lapsed Psychologists'}, 'wrong_team': None, '#': 4}, {'id': 9, 'match': {'value': 2, 'label': 'S01E02: Crossworders [30 | 24] Birkbeck Alumni'}, 'set': {'value': 3, 'label': 'Wading birds'}, 'clue': 'YS TRC TC HR', 'solution': 'OYSTERCATCHER', 'right': '[12]', 'wrong': '[]', 'right_team': {'value': 4, 'label': 'Birkbeck Alumni'}, 'wrong_team': None, '#': 1}, {'id': 10, 'match': {'value': 2, 'label': 'S01E02: Crossworders [30 | 24] Birkbeck Alumni'}, 'set': {'value': 3, 'label': 'Wading birds'}, 'clue': 'VCT', 'solution': 'AVOCET', 'right': '[12]', 'wrong': '[]', 'right_team': {'value': 4, 'label': 'Birkbeck Alumni'}, 'wrong_team': None, '#': 2}, {'id': 11, 'match': {'value': 2, 'label': 'S01E02: Crossworders [30 | 24] Birkbeck Alumni'}, 'set': {'value': 3, 'label': 'Wading birds'}, 'clue': 'BS', 'solution': 'IBIS', 'right': '[8]', 'wrong': '[]', 'right_team': {'value': 3, 'label': 'Crossworders'}, 'wrong_team': None, '#': 3}, {'id': 12, 'match': {'value': 2, 'label': 'S01E02: Crossworders [30 | 24] Birkbeck Alumni'}, 'set': {'value': 3, 'label': 'Wading birds'}, 'clue': 'RN GDP LVR', 'solution': 'RINGED PLOVER', 'right': '[8]', 'wrong': '[]', 'right_team': {'value': 3, 'label': 'Crossworders'}, 'wrong_team': None, '#': 4}, {'id': 13, 'match': {'value': 2, 'label': 'S01E02: Crossworders [30 | 24] Birkbeck Alumni'}, 'set': {'value': 4, 'label': 'Booker Prize-winning novels'}, 'clue': 'T HG HS TRD', 'solution': 'THE GHOST ROAD', 'right': '[]', 'wrong': '[7]', 'right_team': None, 'wrong_team': {'value': 3, 'label': 'Crossworders'}, '#': 1}, {'id': 14, 'match': {'value': 2, 'label': 'S01E02: Crossworders [30 | 24] Birkbeck Alumni'}, 'set': {'value': 4, 'label': 'Booker Prize-winning novels'}, 'clue': 'LFFP', 'solution': 'LIFE OF PI', 'right': '[]', 'wrong': '[]', 'right_team': None, 'wrong_team': None, '#': 2}, {'id': 15, 'match': {'value': 2, 'label': 'S01E02: Crossworders [30 | 24] Birkbeck Alumni'}, 'set': {'value': 4, 'label': 'Booker Prize-winning novels'}, 'clue': 'S CRN DLCN D', 'solution': 'OSCAR AND LUCINDA', 'right': '[7]', 'wrong': '[]', 'right_team': {'value': 3, 'label': 'Crossworders'}, 'wrong_team': None, '#': 3}, {'id': 16, 'match': {'value': 2, 'label': 'S01E02: Crossworders [30 | 24] Birkbeck Alumni'}, 'set': {'value': 4, 'label': 'Booker Prize-winning novels'}, 'clue': 'VR NNGDLT TL', 'solution': 'VERNON GOD LITTLE', 'right': '[]', 'wrong': '[]', 'right_team': None, 'wrong_team': None, '#': 4}, {'id': 17, 'match': {'value': 2, 'label': 'S01E02: Crossworders [30 | 24] Birkbeck Alumni'}, 'set': {'value': 5, 'label': 'Proverbs about money'}, 'clue': 'VR YMNH SHSP RC', 'solution': 'EVERY MAN HAS HIS PRICE', 'right': '[8]', 'wrong': '[]', 'right_team': {'value': 3, 'label': 'Crossworders'}, 'wrong_team': None, '#': 1}, {'id': 18, 'match': {'value': 2, 'label': 'S01E02: Crossworders [30 | 24] Birkbeck Alumni'}, 'set': {'value': 5, 'label': 'Proverbs about money'}, 'clue': 'FLN DHSM NYRS NPR TD', 'solution': 'A FOOL AND HIS MONEY ARE SOON PARTED', 'right': '[8]', 'wrong': '[]', 'right_team': {'value': 3, 'label': 'Crossworders'}, 'wrong_team': None, '#': 2}, {'id': 19, 'match': {'value': 2, 'label': 'S01E02: Crossworders [30 | 24] Birkbeck Alumni'}, 'set': {'value': 5, 'label': 'Proverbs about money'}, 'clue': 'RSN GTDLF TSL LBT S', 'solution': 'A RISING TIDE LIFTS ALL BOATS', 'right': '[]', 'wrong': '[12]', 'right_team': None, 'wrong_team': {'value': 4, 'label': 'Birkbeck Alumni'}, '#': 3}, {'id': 20, 'match': {'value': 2, 'label': 'S01E02: Crossworders [30 | 24] Birkbeck Alumni'}, 'set': {'value': 5, 'label': 'Proverbs about money'}, 'clue': 'T HRSNSC HT HN GSF RLN CH', 'solution': \"THERE'S NO SUCH THING AS A FREE LUNCH\", 'right': '[8]', 'wrong': '[]', 'right_team': {'value': 3, 'label': 'Crossworders'}, 'wrong_team': None, '#': 4}, {'id': 21, 'match': {'value': 2, 'label': 'S01E02: Crossworders [30 | 24] Birkbeck Alumni'}, 'set': {'value': 6, 'label': 'Famous Westerns'}, 'clue': 'RG RN D', 'solution': 'RIO GRANDE', 'right': '[8]', 'wrong': '[]', 'right_team': {'value': 3, 'label': 'Crossworders'}, 'wrong_team': None, '#': 1}, {'id': 22, 'match': {'value': 2, 'label': 'S01E02: Crossworders [30 | 24] Birkbeck Alumni'}, 'set': {'value': 6, 'label': 'Famous Westerns'}, 'clue': 'NCP NT MNT HWS T', 'solution': 'ONCE UPON A TIME IN THE WEST', 'right': '[11]', 'wrong': '[]', 'right_team': {'value': 4, 'label': 'Birkbeck Alumni'}, 'wrong_team': None, '#': 2}, {'id': 23, 'match': {'value': 2, 'label': 'S01E02: Crossworders [30 | 24] Birkbeck Alumni'}, 'set': {'value': 6, 'label': 'Famous Westerns'}, 'clue': 'FR TPC H', 'solution': 'FORT APACHE', 'right': '[7]', 'wrong': '[]', 'right_team': {'value': 3, 'label': 'Crossworders'}, 'wrong_team': None, '#': 3}, {'id': 24, 'match': {'value': 3, 'label': 'S01E03: County Councillors [24 | 23] Ombudsmen'}, 'set': {'value': 7, 'label': 'Soups and Stews'}, 'clue': 'BL LBS S', 'solution': 'BOUILLABAISSE', 'right': '[14]', 'wrong': '[]', 'right_team': {'value': 5, 'label': 'County Councillors'}, 'wrong_team': None, '#': 1}, {'id': 25, 'match': {'value': 3, 'label': 'S01E03: County Councillors [24 | 23] Ombudsmen'}, 'set': {'value': 7, 'label': 'Soups and Stews'}, 'clue': 'CR RTN DCRN DR', 'solution': 'CARROT AND CORIANDER', 'right': '[14]', 'wrong': '[]', 'right_team': {'value': 5, 'label': 'County Councillors'}, 'wrong_team': None, '#': 2}, {'id': 26, 'match': {'value': 3, 'label': 'S01E03: County Councillors [24 | 23] Ombudsmen'}, 'set': {'value': 7, 'label': 'Soups and Stews'}, 'clue': 'C RBBS Q', 'solution': 'CRAB BISQUE', 'right': '[13]', 'wrong': '[16]', 'right_team': {'value': 5, 'label': 'County Councillors'}, 'wrong_team': {'value': 6, 'label': 'Ombudsmen'}, '#': 3}, {'id': 27, 'match': {'value': 3, 'label': 'S01E03: County Councillors [24 | 23] Ombudsmen'}, 'set': {'value': 7, 'label': 'Soups and Stews'}, 'clue': 'CP PN', 'solution': 'CIOPPINO', 'right': '[]', 'wrong': '[]', 'right_team': None, 'wrong_team': None, '#': 4}, {'id': 28, 'match': {'value': 3, 'label': 'S01E03: County Councillors [24 | 23] Ombudsmen'}, 'set': {'value': 8, 'label': 'Terms in mechanical physics'}, 'clue': 'LS TCCL LSN', 'solution': 'ELASTIC COLLISION', 'right': '[14]', 'wrong': '[]', 'right_team': {'value': 5, 'label': 'County Councillors'}, 'wrong_team': None, '#': 1}, {'id': 29, 'match': {'value': 3, 'label': 'S01E03: County Councillors [24 | 23] Ombudsmen'}, 'set': {'value': 8, 'label': 'Terms in mechanical physics'}, 'clue': 'NR T', 'solution': 'INERTIA', 'right': '[16]', 'wrong': '[]', 'right_team': {'value': 6, 'label': 'Ombudsmen'}, 'wrong_team': None, '#': 2}, {'id': 30, 'match': {'value': 3, 'label': 'S01E03: County Councillors [24 | 23] Ombudsmen'}, 'set': {'value': 8, 'label': 'Terms in mechanical physics'}, 'clue': 'PTN TLNR GY', 'solution': 'POTENTIAL ENERGY', 'right': '[14]', 'wrong': '[]', 'right_team': {'value': 5, 'label': 'County Councillors'}, 'wrong_team': None, '#': 3}, {'id': 31, 'match': {'value': 3, 'label': 'S01E03: County Councillors [24 | 23] Ombudsmen'}, 'set': {'value': 8, 'label': 'Terms in mechanical physics'}, 'clue': 'C CLR TN', 'solution': 'ACCELERATION', 'right': '[17]', 'wrong': '[]', 'right_team': {'value': 6, 'label': 'Ombudsmen'}, 'wrong_team': None, '#': 4}, {'id': 32, 'match': {'value': 3, 'label': 'S01E03: County Councillors [24 | 23] Ombudsmen'}, 'set': {'value': 9, 'label': 'Quotations from US Presidents'}, 'clue': 'YC NFLL LT HPP LSMFT HTM', 'solution': 'YOU CAN FOOL ALL THE PEOPLE SOME OF THE TIME', 'right': '[]', 'wrong': '[16,15]', 'right_team': None, 'wrong_team': {'value': 6, 'label': 'Ombudsmen'}, '#': 1}, {'id': 33, 'match': {'value': 3, 'label': 'S01E03: County Councillors [24 | 23] Ombudsmen'}, 'set': {'value': 9, 'label': 'Quotations from US Presidents'}, 'clue': 'C HBN NBR LNR', 'solution': 'ICH BIN EIN BERLINER', 'right': '[14]', 'wrong': '[]', 'right_team': {'value': 5, 'label': 'County Councillors'}, 'wrong_team': None, '#': 2}, {'id': 34, 'match': {'value': 3, 'label': 'S01E03: County Councillors [24 | 23] Ombudsmen'}, 'set': {'value': 9, 'label': 'Quotations from US Presidents'}, 'clue': 'T HRCNBNW HTWS HTT HW HTHS', 'solution': 'THERE CAN BE NO WHITEWASH AT THE WHITE HOUSE', 'right': '[]', 'wrong': '[]', 'right_team': None, 'wrong_team': None, '#': 3}, {'id': 35, 'match': {'value': 3, 'label': 'S01E03: County Councillors [24 | 23] Ombudsmen'}, 'set': {'value': 9, 'label': 'Quotations from US Presidents'}, 'clue': 'DD NTHVS XLR LTN S', 'solution': 'I DID NOT HAVE SEXUAL RELATIONS', 'right': '[]', 'wrong': '[16]', 'right_team': None, 'wrong_team': {'value': 6, 'label': 'Ombudsmen'}, '#': 4}, {'id': 36, 'match': {'value': 3, 'label': 'S01E03: County Councillors [24 | 23] Ombudsmen'}, 'set': {'value': 10, 'label': 'Tiebreaker'}, 'clue': 'LBR TNS TN', 'solution': 'ALBERT EINSTEIN', 'right': '[14]', 'wrong': '[]', 'right_team': {'value': 5, 'label': 'County Councillors'}, 'wrong_team': None, '#': 1}, {'id': 37, 'match': {'value': 4, 'label': 'S01E04: Science Writers [25 | 18] Travel Writers'}, 'set': {'value': 11, 'label': 'Famous TV newsreaders'}, 'clue': 'SLW LY', 'solution': 'SUE LAWLEY', 'right': '[21]', 'wrong': '[]', 'right_team': {'value': 7, 'label': 'Science Writers'}, 'wrong_team': None, '#': 1}, {'id': 38, 'match': {'value': 4, 'label': 'S01E04: Science Writers [25 | 18] Travel Writers'}, 'set': {'value': 11, 'label': 'Famous TV newsreaders'}, 'clue': 'GR GLGH', 'solution': 'GEORGE ALAGIAH', 'right': '[]', 'wrong': '[19]', 'right_team': None, 'wrong_team': {'value': 7, 'label': 'Science Writers'}, '#': 2}, {'id': 39, 'match': {'value': 4, 'label': 'S01E04: Science Writers [25 | 18] Travel Writers'}, 'set': {'value': 11, 'label': 'Famous TV newsreaders'}, 'clue': 'MRS TRT', 'solution': 'MOIRA STUART', 'right': '[22]', 'wrong': '[]', 'right_team': {'value': 8, 'label': 'Travel Writers'}, 'wrong_team': None, '#': 3}, {'id': 40, 'match': {'value': 4, 'label': 'S01E04: Science Writers [25 | 18] Travel Writers'}, 'set': {'value': 11, 'label': 'Famous TV newsreaders'}, 'clue': 'RBR TDGLL', 'solution': 'ROBERT DOUGALL', 'right': '[23]', 'wrong': '[]', 'right_team': {'value': 8, 'label': 'Travel Writers'}, 'wrong_team': None, '#': 4}, {'id': 41, 'match': {'value': 4, 'label': 'S01E04: Science Writers [25 | 18] Travel Writers'}, 'set': {'value': 12, 'label': 'Beethoven piano sonatas'}, 'clue': 'PT HTQ', 'solution': 'PATHÉTIQUE', 'right': '[21]', 'wrong': '[]', 'right_team': {'value': 7, 'label': 'Science Writers'}, 'wrong_team': None, '#': 1}, {'id': 42, 'match': {'value': 4, 'label': 'S01E04: Science Writers [25 | 18] Travel Writers'}, 'set': {'value': 12, 'label': 'Beethoven piano sonatas'}, 'clue': 'PP SS NT', 'solution': 'APPASSIONATA', 'right': '[21]', 'wrong': '[]', 'right_team': {'value': 7, 'label': 'Science Writers'}, 'wrong_team': None, '#': 2}, {'id': 43, 'match': {'value': 4, 'label': 'S01E04: Science Writers [25 | 18] Travel Writers'}, 'set': {'value': 12, 'label': 'Beethoven piano sonatas'}, 'clue': 'HM MRKL VR', 'solution': 'HAMMERKLAVIER', 'right': '[21]', 'wrong': '[]', 'right_team': {'value': 7, 'label': 'Science Writers'}, 'wrong_team': None, '#': 3}, {'id': 44, 'match': {'value': 4, 'label': 'S01E04: Science Writers [25 | 18] Travel Writers'}, 'set': {'value': 12, 'label': 'Beethoven piano sonatas'}, 'clue': 'WL DSTN', 'solution': 'WALDSTEIN', 'right': '[21]', 'wrong': '[]', 'right_team': {'value': 7, 'label': 'Science Writers'}, 'wrong_team': None, '#': 4}, {'id': 45, 'match': {'value': 4, 'label': 'S01E04: Science Writers [25 | 18] Travel Writers'}, 'set': {'value': 13, 'label': 'Varieties of potato'}, 'clue': 'DSR', 'solution': 'DESIRÉE', 'right': '[24]', 'wrong': '[]', 'right_team': {'value': 8, 'label': 'Travel Writers'}, 'wrong_team': None, '#': 1}, {'id': 46, 'match': {'value': 4, 'label': 'S01E04: Science Writers [25 | 18] Travel Writers'}, 'set': {'value': 13, 'label': 'Varieties of potato'}, 'clue': 'RDPN TC', 'solution': 'RED PONTIAC', 'right': '[]', 'wrong': '[]', 'right_team': None, 'wrong_team': None, '#': 2}, {'id': 47, 'match': {'value': 4, 'label': 'S01E04: Science Writers [25 | 18] Travel Writers'}, 'set': {'value': 13, 'label': 'Varieties of potato'}, 'clue': 'S TM', 'solution': 'ESTIMA', 'right': '[]', 'wrong': '[]', 'right_team': None, 'wrong_team': None, '#': 3}, {'id': 48, 'match': {'value': 4, 'label': 'S01E04: Science Writers [25 | 18] Travel Writers'}, 'set': {'value': 13, 'label': 'Varieties of potato'}, 'clue': 'MR SPP R', 'solution': 'MARIS PIPER', 'right': '[21]', 'wrong': '[]', 'right_team': {'value': 7, 'label': 'Science Writers'}, 'wrong_team': None, '#': 4}, {'id': 49, 'match': {'value': 4, 'label': 'S01E04: Science Writers [25 | 18] Travel Writers'}, 'set': {'value': 14, 'label': 'Mike Leigh films'}, 'clue': 'CR RGR LS', 'solution': 'CAREER GIRLS', 'right': '[21]', 'wrong': '[]', 'right_team': {'value': 7, 'label': 'Science Writers'}, 'wrong_team': None, '#': 1}, {'id': 50, 'match': {'value': 4, 'label': 'S01E04: Science Writers [25 | 18] Travel Writers'}, 'set': {'value': 14, 'label': 'Mike Leigh films'}, 'clue': 'VRD RK', 'solution': 'VERA DRAKE', 'right': '[23]', 'wrong': '[]', 'right_team': {'value': 8, 'label': 'Travel Writers'}, 'wrong_team': None, '#': 2}]\n"
     ]
    }
   ],
   "source": [
    "import requests\n",
    "import json\n",
    "\n",
    "url = \"https://prettygr.im/smoci/only-connect/vowel_clues.json?_labels=on\"\n",
    "\n",
    "request = requests.get(url)\n",
    "json_clues = request.json()['rows']  # the json clues are at this level down\n",
    "\n",
    "print(f\"size: {len(json_clues)}, {json_clues}\")"
   ]
  },
  {
   "cell_type": "markdown",
   "metadata": {
    "id": "gc6_ZK9QMVUk"
   },
   "source": [
    "# Step 2: Make a Function to Return a Question in a Pretty Format\n",
    "\n",
    "We want the following bits of info:\n",
    "\n",
    "*   The Label of the Clue (e.g. 'Dishes made using eggs')\n",
    "*   The Clue itself (e.g. 'MRN G')\n",
    "*   The Solution (e.g. MERINGUE)\n",
    "\n",
    "Looking at the json, we can define a function that returns those bits as a tuple\n",
    "\n",
    "\n"
   ]
  },
  {
   "cell_type": "code",
   "execution_count": 3,
   "metadata": {
    "colab": {
     "base_uri": "https://localhost:8080/"
    },
    "executionInfo": {
     "elapsed": 224,
     "status": "ok",
     "timestamp": 1676651436656,
     "user": {
      "displayName": "Joey Green",
      "userId": "06938313352097971733"
     },
     "user_tz": 0
    },
    "id": "MhzGvPzwNJxa",
    "outputId": "aa72be2f-185d-4ca8-86f6-0374b45e4990"
   },
   "outputs": [
    {
     "name": "stdout",
     "output_type": "stream",
     "text": [
      "('Dishes made using eggs', 'MRN G', 'MERINGUE')\n"
     ]
    }
   ],
   "source": [
    "def get_question(id: int = 0):\n",
    "  label = json_clues[id]['set']['label']\n",
    "  clue = json_clues[id]['clue']\n",
    "  solution = json_clues[id]['solution']\n",
    "  return (label, clue, solution)\n",
    "\n",
    "print(get_question(0))"
   ]
  },
  {
   "cell_type": "markdown",
   "metadata": {
    "id": "DVv86BX6N3aN"
   },
   "source": [
    "# Step 3: Ask a question and time the result\n",
    "\n",
    "We kind of want the following pattern:\n",
    "\n",
    "1.   A random question is selected\n",
    "2.   The question is asked\n",
    "3.   A timer starts\n",
    "4.   The user answers (either by typing it out or otherwise)\n",
    "5.   The timer stops\n",
    "6.   The user is notified of the correct solution and the time"
   ]
  },
  {
   "cell_type": "code",
   "execution_count": 5,
   "metadata": {
    "colab": {
     "base_uri": "https://localhost:8080/"
    },
    "executionInfo": {
     "elapsed": 6362,
     "status": "ok",
     "timestamp": 1676652246108,
     "user": {
      "displayName": "Joey Green",
      "userId": "06938313352097971733"
     },
     "user_tz": 0
    },
    "id": "aZwe5MW7O_ih",
    "outputId": "47dc9f1e-94b4-4756-f959-6c073791454e"
   },
   "outputs": [
    {
     "name": "stdout",
     "output_type": "stream",
     "text": [
      "Label: Famous mathematicians\n",
      "Clue: RC HM DS\n",
      "Your Guess: no idea lol\n",
      "Solution: ARCHIMEDES (You were incorrect!), time taken: 6.2023327350616455 seconds\n"
     ]
    }
   ],
   "source": [
    "import time\n",
    "import random\n",
    "\n",
    "def ask_a_question():\n",
    "  random_id = random.randrange(len(json_clues))\n",
    "  label, clue, solution = get_question(random_id)\n",
    "  start_time = time.time()\n",
    "  guess = input(f\"Label: {label}\\nClue: {clue}\\nYour Guess: \")\n",
    "  end_time = time.time()\n",
    "  elapsed_time = end_time - start_time\n",
    "  correct_string = \"correct\" if solution == guess else \"incorrect\"\n",
    "  print(f\"Solution: {solution} (You were {correct_string}!), time taken: {elapsed_time:.2f} seconds\")\n",
    "\n",
    "ask_a_question()"
   ]
  },
  {
   "cell_type": "markdown",
   "metadata": {
    "id": "AtgDGWikQ1xY"
   },
   "source": [
    "# Further Extensions\n",
    "\n",
    "These are the basic building blocks for the task, but you could extend it in the following ways:\n",
    "\n",
    "*   Loop it to keep asking questions\n",
    "*   Return the time taken / whether the answer was correct and add to array, then after `n` questions, return stats on time taken (e.g. average / worst case) and percentage correct\n",
    "\n",
    "Heads up, there are only 50 questions available in the json at the time of writing, so you'll get through them awfully quickly!\n",
    "\n"
   ]
  },
  {
   "cell_type": "code",
   "execution_count": 1,
   "metadata": {},
   "outputs": [],
   "source": [
    "import os"
   ]
  },
  {
   "cell_type": "code",
   "execution_count": 2,
   "metadata": {},
   "outputs": [
    {
     "data": {
      "text/plain": [
       "'C:\\\\Users\\\\Jack\\\\Downloads'"
      ]
     },
     "execution_count": 2,
     "metadata": {},
     "output_type": "execute_result"
    }
   ],
   "source": [
    "os.getcwd()"
   ]
  },
  {
   "cell_type": "code",
   "execution_count": 4,
   "metadata": {},
   "outputs": [
    {
     "data": {
      "text/plain": [
       "True"
      ]
     },
     "execution_count": 4,
     "metadata": {},
     "output_type": "execute_result"
    }
   ],
   "source": [
    "'vowel_clues.csv' in os.listdir()"
   ]
  },
  {
   "cell_type": "code",
   "execution_count": 5,
   "metadata": {},
   "outputs": [],
   "source": [
    "import pandas as pd"
   ]
  },
  {
   "cell_type": "code",
   "execution_count": 8,
   "metadata": {},
   "outputs": [],
   "source": [
    "df = pd.read_csv('vowel_clues.csv')"
   ]
  },
  {
   "cell_type": "code",
   "execution_count": 9,
   "metadata": {},
   "outputs": [
    {
     "data": {
      "text/html": [
       "<div>\n",
       "<style scoped>\n",
       "    .dataframe tbody tr th:only-of-type {\n",
       "        vertical-align: middle;\n",
       "    }\n",
       "\n",
       "    .dataframe tbody tr th {\n",
       "        vertical-align: top;\n",
       "    }\n",
       "\n",
       "    .dataframe thead th {\n",
       "        text-align: right;\n",
       "    }\n",
       "</style>\n",
       "<table border=\"1\" class=\"dataframe\">\n",
       "  <thead>\n",
       "    <tr style=\"text-align: right;\">\n",
       "      <th></th>\n",
       "      <th>id</th>\n",
       "      <th>match</th>\n",
       "      <th>match_label</th>\n",
       "      <th>set</th>\n",
       "      <th>set_label</th>\n",
       "      <th>clue</th>\n",
       "      <th>solution</th>\n",
       "      <th>right</th>\n",
       "      <th>wrong</th>\n",
       "      <th>right_team</th>\n",
       "      <th>right_team_label</th>\n",
       "      <th>wrong_team</th>\n",
       "      <th>wrong_team_label</th>\n",
       "      <th>#</th>\n",
       "    </tr>\n",
       "  </thead>\n",
       "  <tbody>\n",
       "    <tr>\n",
       "      <th>0</th>\n",
       "      <td>1</td>\n",
       "      <td>1</td>\n",
       "      <td>S01E01: Lapsed Psychologists [18 | 12] Knitters</td>\n",
       "      <td>1</td>\n",
       "      <td>Dishes made using eggs</td>\n",
       "      <td>MRN G</td>\n",
       "      <td>MERINGUE</td>\n",
       "      <td>[4,5]</td>\n",
       "      <td>[]</td>\n",
       "      <td>2.0</td>\n",
       "      <td>Knitters</td>\n",
       "      <td>NaN</td>\n",
       "      <td>NaN</td>\n",
       "      <td>1</td>\n",
       "    </tr>\n",
       "    <tr>\n",
       "      <th>1</th>\n",
       "      <td>2</td>\n",
       "      <td>1</td>\n",
       "      <td>S01E01: Lapsed Psychologists [18 | 12] Knitters</td>\n",
       "      <td>1</td>\n",
       "      <td>Dishes made using eggs</td>\n",
       "      <td>MLT T</td>\n",
       "      <td>OMELETTE</td>\n",
       "      <td>[1]</td>\n",
       "      <td>[]</td>\n",
       "      <td>1.0</td>\n",
       "      <td>Lapsed Psychologists</td>\n",
       "      <td>NaN</td>\n",
       "      <td>NaN</td>\n",
       "      <td>2</td>\n",
       "    </tr>\n",
       "    <tr>\n",
       "      <th>2</th>\n",
       "      <td>3</td>\n",
       "      <td>1</td>\n",
       "      <td>S01E01: Lapsed Psychologists [18 | 12] Knitters</td>\n",
       "      <td>1</td>\n",
       "      <td>Dishes made using eggs</td>\n",
       "      <td>MS S</td>\n",
       "      <td>MOUSSE</td>\n",
       "      <td>[]</td>\n",
       "      <td>[2]</td>\n",
       "      <td>NaN</td>\n",
       "      <td>NaN</td>\n",
       "      <td>1.0</td>\n",
       "      <td>Lapsed Psychologists</td>\n",
       "      <td>3</td>\n",
       "    </tr>\n",
       "    <tr>\n",
       "      <th>3</th>\n",
       "      <td>4</td>\n",
       "      <td>1</td>\n",
       "      <td>S01E01: Lapsed Psychologists [18 | 12] Knitters</td>\n",
       "      <td>1</td>\n",
       "      <td>Dishes made using eggs</td>\n",
       "      <td>F RT TT</td>\n",
       "      <td>FRITTATA</td>\n",
       "      <td>[1]</td>\n",
       "      <td>[]</td>\n",
       "      <td>1.0</td>\n",
       "      <td>Lapsed Psychologists</td>\n",
       "      <td>NaN</td>\n",
       "      <td>NaN</td>\n",
       "      <td>4</td>\n",
       "    </tr>\n",
       "    <tr>\n",
       "      <th>4</th>\n",
       "      <td>5</td>\n",
       "      <td>1</td>\n",
       "      <td>S01E01: Lapsed Psychologists [18 | 12] Knitters</td>\n",
       "      <td>2</td>\n",
       "      <td>Famous mathematicians</td>\n",
       "      <td>LNTRN G</td>\n",
       "      <td>ALAN TURING</td>\n",
       "      <td>[1]</td>\n",
       "      <td>[]</td>\n",
       "      <td>1.0</td>\n",
       "      <td>Lapsed Psychologists</td>\n",
       "      <td>NaN</td>\n",
       "      <td>NaN</td>\n",
       "      <td>1</td>\n",
       "    </tr>\n",
       "  </tbody>\n",
       "</table>\n",
       "</div>"
      ],
      "text/plain": [
       "   id  match                                      match_label  set  \\\n",
       "0   1      1  S01E01: Lapsed Psychologists [18 | 12] Knitters    1   \n",
       "1   2      1  S01E01: Lapsed Psychologists [18 | 12] Knitters    1   \n",
       "2   3      1  S01E01: Lapsed Psychologists [18 | 12] Knitters    1   \n",
       "3   4      1  S01E01: Lapsed Psychologists [18 | 12] Knitters    1   \n",
       "4   5      1  S01E01: Lapsed Psychologists [18 | 12] Knitters    2   \n",
       "\n",
       "                set_label     clue     solution  right wrong  right_team  \\\n",
       "0  Dishes made using eggs    MRN G     MERINGUE  [4,5]    []         2.0   \n",
       "1  Dishes made using eggs    MLT T     OMELETTE    [1]    []         1.0   \n",
       "2  Dishes made using eggs     MS S       MOUSSE     []   [2]         NaN   \n",
       "3  Dishes made using eggs  F RT TT     FRITTATA    [1]    []         1.0   \n",
       "4   Famous mathematicians  LNTRN G  ALAN TURING    [1]    []         1.0   \n",
       "\n",
       "       right_team_label  wrong_team      wrong_team_label  #  \n",
       "0              Knitters         NaN                   NaN  1  \n",
       "1  Lapsed Psychologists         NaN                   NaN  2  \n",
       "2                   NaN         1.0  Lapsed Psychologists  3  \n",
       "3  Lapsed Psychologists         NaN                   NaN  4  \n",
       "4  Lapsed Psychologists         NaN                   NaN  1  "
      ]
     },
     "execution_count": 9,
     "metadata": {},
     "output_type": "execute_result"
    }
   ],
   "source": [
    "df.head()"
   ]
  },
  {
   "cell_type": "code",
   "execution_count": null,
   "metadata": {},
   "outputs": [],
   "source": []
  }
 ],
 "metadata": {
  "colab": {
   "authorship_tag": "ABX9TyMrAj5mdgPbxkaK/GVilN8x",
   "provenance": []
  },
  "kernelspec": {
   "display_name": "Python 3 (ipykernel)",
   "language": "python",
   "name": "python3"
  },
  "language_info": {
   "codemirror_mode": {
    "name": "ipython",
    "version": 3
   },
   "file_extension": ".py",
   "mimetype": "text/x-python",
   "name": "python",
   "nbconvert_exporter": "python",
   "pygments_lexer": "ipython3",
   "version": "3.9.13"
  }
 },
 "nbformat": 4,
 "nbformat_minor": 1
}
